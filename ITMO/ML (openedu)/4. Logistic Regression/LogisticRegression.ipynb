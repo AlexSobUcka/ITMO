version https://git-lfs.github.com/spec/v1
oid sha256:00f82a7ced72d2d634e6bcae5ff2b0e38e114c84a94c2d62c510836d15462b66
size 37634
