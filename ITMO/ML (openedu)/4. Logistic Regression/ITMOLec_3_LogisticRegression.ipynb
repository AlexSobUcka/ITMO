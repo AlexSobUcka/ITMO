version https://git-lfs.github.com/spec/v1
oid sha256:fa727d73962c3837462d06b8b2a73ce15d0dd64136cfdc1cc99c7680dc9e9e5c
size 43236
