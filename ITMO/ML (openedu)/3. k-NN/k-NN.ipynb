version https://git-lfs.github.com/spec/v1
oid sha256:fdfef345d300c3dc35089a09b1e1fcd002e9b6fc65506f83d1d841ad485e0121
size 5346
