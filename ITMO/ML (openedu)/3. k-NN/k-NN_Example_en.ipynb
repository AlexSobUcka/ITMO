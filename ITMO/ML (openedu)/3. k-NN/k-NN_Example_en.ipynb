version https://git-lfs.github.com/spec/v1
oid sha256:ea11b72ebd12547dc7009f9bcd0bdaaad7c293e1532856b785f01e5665924d14
size 7408
