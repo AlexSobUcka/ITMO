version https://git-lfs.github.com/spec/v1
oid sha256:16de2e59e2540f342c3b4cbe60f68153d86a5c8619d1d810481c7ce0da9ecd4d
size 673671
