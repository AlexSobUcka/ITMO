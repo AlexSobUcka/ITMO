version https://git-lfs.github.com/spec/v1
oid sha256:355ee97e880ddb09c3bdfdcdb7538d52826e90ffb424dc1c5c7757db7f3ac3a1
size 3768
