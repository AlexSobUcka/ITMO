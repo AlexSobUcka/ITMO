version https://git-lfs.github.com/spec/v1
oid sha256:8a58176fa0c8ed6837d99090e3384f4dea249e2a429ffe91275bb7edb4ff329a
size 19328
