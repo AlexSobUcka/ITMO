version https://git-lfs.github.com/spec/v1
oid sha256:24b79b71efa89b6cdb994b23119057f617ac18caafeb30dba6673c1961780f3e
size 22084
