version https://git-lfs.github.com/spec/v1
oid sha256:24acbfceeabe6195d6846f2f6d12659b957af285df135a7e7c021a7bc8d9e3ce
size 286
