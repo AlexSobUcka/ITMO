version https://git-lfs.github.com/spec/v1
oid sha256:e966906ebdf962f9ee6d924a6b195a66b4eeeaf5a685fe8c18ee14ea231eb1d3
size 42059
