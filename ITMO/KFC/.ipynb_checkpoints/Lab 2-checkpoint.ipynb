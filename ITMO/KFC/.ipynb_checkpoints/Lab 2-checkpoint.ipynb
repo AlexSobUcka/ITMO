version https://git-lfs.github.com/spec/v1
oid sha256:04a9079e00627563da7ff9d60d47bad4788d8658e0dd666b3ebb9aba9c7be1a8
size 13673
